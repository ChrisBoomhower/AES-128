{
 "cells": [
  {
   "cell_type": "markdown",
   "metadata": {},
   "source": [
    "## Statistical Analysis of AES-128\n",
    "#### Meenu Ahluwalia, Chris Boomhower, Steven Millett\n",
    "This Jupyter Notebook contains the code used to implement our AES-128 bias analysis for MSDS7349"
   ]
  },
  {
   "cell_type": "code",
   "execution_count": null,
   "metadata": {},
   "outputs": [],
   "source": [
    "import base64\n",
    "import hashlib\n",
    "import pandas as pd\n",
    "\n",
    "# To install pycrypto module, run following from command line in PuTTy:  python3 /usr/local/es7/bin/pip3 install --user pycrypto\n",
    "from Crypto import Random\n",
    "from Crypto.Cipher import AES"
   ]
  },
  {
   "cell_type": "code",
   "execution_count": null,
   "metadata": {},
   "outputs": [],
   "source": [
    "# Following code chunk obtained from https://stackoverflow.com/questions/12524994/encrypt-decrypt-using-pycrypto-aes-256/12525165#12525165\n",
    "\n",
    "BS = 16\n",
    "pad = lambda s: s + (BS - len(s) % BS) * chr(BS - len(s) % BS)\n",
    "unpad = lambda s : s[0:-s[-1]]\n",
    "\n",
    "\n",
    "class AESCipher:\n",
    "\n",
    "    def __init__( self, key ):\n",
    "        self.key = hashlib.sha256(key.encode('utf-8')).digest()\n",
    "\n",
    "    def encrypt( self, raw ):\n",
    "        raw = pad(raw)\n",
    "        iv = Random.new().read( AES.block_size )\n",
    "        cipher = AES.new( self.key, AES.MODE_CBC, iv )\n",
    "        return base64.b64encode( iv + cipher.encrypt( raw ) )\n",
    "\n",
    "    def decrypt( self, enc ):\n",
    "        enc = base64.b64decode(enc)\n",
    "        iv = enc[:16]\n",
    "        cipher = AES.new(self.key, AES.MODE_CBC, iv )\n",
    "        return unpad(cipher.decrypt( enc[16:] ))"
   ]
  },
  {
   "cell_type": "markdown",
   "metadata": {},
   "source": [
    "Quick look at encryption and decryption using the above class"
   ]
  },
  {
   "cell_type": "code",
   "execution_count": null,
   "metadata": {},
   "outputs": [],
   "source": [
    "cipher = AESCipher('mysecretpassword') #16-byte password\n",
    "encrypted = cipher.encrypt('Super secret message')\n",
    "decrypted = cipher.decrypt(encrypted)\n",
    "print(encrypted)\n",
    "print(decrypted)"
   ]
  },
  {
   "cell_type": "markdown",
   "metadata": {},
   "source": [
    "Quick look at how long it takes to generate 1 million cipher blocks."
   ]
  },
  {
   "cell_type": "code",
   "execution_count": null,
   "metadata": {},
   "outputs": [],
   "source": [
    "%%time\n",
    "cipher = AESCipher('mysecretpassword') #16-byte password\n",
    "\n",
    "AES_list = []\n",
    "for x, i in enumerate(range(0,1000000)):\n",
    "    AES_list.append(cipher.encrypt('Super secret message %d' %i))\n",
    "\n",
    "dec_list = []\n",
    "for crypto in AES_list:\n",
    "    dec_list.append(cipher.decrypt(crypto))"
   ]
  },
  {
   "cell_type": "markdown",
   "metadata": {},
   "source": [
    "Seems to be working well...."
   ]
  },
  {
   "cell_type": "code",
   "execution_count": null,
   "metadata": {},
   "outputs": [],
   "source": [
    "%%time\n",
    "for crypto in AES_list[:10]:\n",
    "    print(crypto)\n",
    "for msg in dec_list[:10]:\n",
    "    print(msg)"
   ]
  },
  {
   "cell_type": "code",
   "execution_count": null,
   "metadata": {},
   "outputs": [],
   "source": [
    "len(AES_list)"
   ]
  },
  {
   "cell_type": "code",
   "execution_count": null,
   "metadata": {},
   "outputs": [],
   "source": []
  }
 ],
 "metadata": {
  "anaconda-cloud": {},
  "kernelspec": {
   "display_name": "Python 3",
   "language": "python",
   "name": "python3"
  },
  "language_info": {
   "codemirror_mode": {
    "name": "ipython",
    "version": 3
   },
   "file_extension": ".py",
   "mimetype": "text/x-python",
   "name": "python",
   "nbconvert_exporter": "python",
   "pygments_lexer": "ipython3",
   "version": "3.5.2"
  }
 },
 "nbformat": 4,
 "nbformat_minor": 2
}
