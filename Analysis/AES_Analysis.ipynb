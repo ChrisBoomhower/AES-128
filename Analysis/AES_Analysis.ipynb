{
 "cells": [
  {
   "cell_type": "markdown",
   "metadata": {},
   "source": [
    "## Statistical Analysis of AES-128\n",
    "#### Meenu Ahluwalia, Chris Boomhower, Steven Millett\n",
    "This Jupyter Notebook contains the code used to implement our AES-128 bias analysis for MSDS7349"
   ]
  },
  {
   "cell_type": "code",
   "execution_count": 1,
   "metadata": {
    "collapsed": true
   },
   "outputs": [],
   "source": [
    "import base64\n",
    "import hashlib\n",
    "import pandas as pd\n",
    "import numpy as np\n",
    "import sys\n",
    "import os\n",
    "import bitarray\n",
    "import math\n",
    "from IPython.display import display\n",
    "import matplotlib\n",
    "import matplotlib.pyplot as plt\n",
    "import seaborn as sns\n",
    "import statsmodels.api as sm\n",
    "from statsmodels.formula.api import ols\n",
    "import statsmodels.stats.multicomp as multi\n",
    "%matplotlib inline\n",
    "\n",
    "# To install pycrypto module, run following from command line in PuTTy:  python3 /usr/local/es7/bin/pip3 install --user pycrypto\n",
    "from Crypto import Random\n",
    "from Crypto.Cipher import AES\n",
    "from Crypto.Util import Counter"
   ]
  },
  {
   "cell_type": "markdown",
   "metadata": {},
   "source": [
    "## Ciphertext Generation"
   ]
  },
  {
   "cell_type": "markdown",
   "metadata": {},
   "source": [
    "First, we configure our encryption and decryption functions for our analysis."
   ]
  },
  {
   "cell_type": "code",
   "execution_count": 2,
   "metadata": {
    "collapsed": true
   },
   "outputs": [],
   "source": [
    "def encrypt(message, key, cipher_mode = 'CTR'):\n",
    "    if cipher_mode == 'CBC': mode = AES.MODE_CBC\n",
    "    elif cipher_mode == 'ECB': mode = AES.MODE_ECB\n",
    "    else: mode = AES.MODE_CTR\n",
    "    \n",
    "    iv = 'This is our IV01'\n",
    "    \n",
    "    if cipher_mode != 'CTR': obj = AES.new(key, mode, iv)\n",
    "    else:\n",
    "        ctr = Counter.new(128)\n",
    "        obj = AES.new(key, mode, counter=ctr)\n",
    "    \n",
    "    \n",
    "    #obj = AES.new(key, mode, iv)\n",
    "    ciphertext = obj.encrypt(message)\n",
    "    return (base64.b64encode(ciphertext).decode())\n",
    "\n",
    "def decrypt(ciphertext, key, cipher_mode = 'CTR'):\n",
    "    if cipher_mode == 'CBC': mode = AES.MODE_CBC\n",
    "    elif cipher_mode == 'ECB': mode = AES.MODE_ECB\n",
    "    else: mode = AES.MODE_CTR\n",
    "    \n",
    "    iv = 'This is our IV01'\n",
    "    \n",
    "    if cipher_mode != 'CTR': obj = AES.new(key, mode, iv)\n",
    "    else:\n",
    "        ctr = Counter.new(128)\n",
    "        obj = AES.new(key, mode, counter=ctr)\n",
    "        \n",
    "    #obj = AES.new(key, mode, iv)\n",
    "    return (obj.decrypt(base64.b64decode(ciphertext)))"
   ]
  },
  {
   "cell_type": "code",
   "execution_count": 3,
   "metadata": {
    "collapsed": false
   },
   "outputs": [],
   "source": [
    "#test = encrypt('Secret message #', 'mysecretpassword', 'CBC')\n",
    "#test"
   ]
  },
  {
   "cell_type": "code",
   "execution_count": 4,
   "metadata": {
    "collapsed": false
   },
   "outputs": [],
   "source": [
    "#decrypt(test, 'mysecretpassword', 'CBC')"
   ]
  },
  {
   "cell_type": "code",
   "execution_count": 5,
   "metadata": {
    "collapsed": false
   },
   "outputs": [],
   "source": [
    "#ba = bitarray.bitarray()\n",
    "#ba.frombytes(test.encode('utf-8'))\n",
    "#ba"
   ]
  },
  {
   "cell_type": "markdown",
   "metadata": {},
   "source": [
    "Next, we generate our different forms of AES encrypted ciphertext. 100,000 plaintexts are encrypted using a shared secret password and initialization vector. The password and initialization vector are kept constant such as to act as control variables within our experiment design. Plaintexts, on the other hand, consist of leading zero integer values treated as 16 byte strings. For example, the first message is '0000000000000000', the second is '0000000000000001', the third is '0000000000000002', and so on. CBC, ECB, and CTR ciphertexts are appended to their respective lists for evaluation using the NIST Tests for Randomness.\n",
    "###### CBC Ciphertexts"
   ]
  },
  {
   "cell_type": "code",
   "execution_count": 6,
   "metadata": {
    "collapsed": false
   },
   "outputs": [
    {
     "name": "stdout",
     "output_type": "stream",
     "text": [
      "CBC_list length = 100000\n",
      "CBC_dec_list length = 100000\n",
      "Wall time: 2.91 s\n"
     ]
    }
   ],
   "source": [
    "%%time\n",
    "key = 'mysecretpassword'\n",
    "\n",
    "CBC_list = []\n",
    "for x, i in enumerate(range(0,100000)):\n",
    "    CBC_list.append(encrypt(str(i).zfill(16), key, 'CBC'))\n",
    "\n",
    "print'CBC_list length =', len(CBC_list)\n",
    "\n",
    "CBC_dec_list = []\n",
    "for crypto in CBC_list:\n",
    "    CBC_dec_list.append(decrypt(crypto, key, 'CBC'))\n",
    "    \n",
    "print'CBC_dec_list length =', len(CBC_dec_list)"
   ]
  },
  {
   "cell_type": "markdown",
   "metadata": {},
   "source": [
    "Ensure CBC encryption functionality."
   ]
  },
  {
   "cell_type": "code",
   "execution_count": 7,
   "metadata": {
    "collapsed": false
   },
   "outputs": [
    {
     "name": "stdout",
     "output_type": "stream",
     "text": [
      "DklbbT/PejHZvTCS8BsLEw==\n",
      "kVQmaiRO65loXpFF9to67A==\n",
      "27HN7dasHa0z4I6M5G9ZVQ==\n",
      "KJaquaGVDi6zMtX7LlITaA==\n",
      "uqFOUQ9++I/ELksiejukxQ==\n",
      "0000000000000000\n",
      "0000000000000001\n",
      "0000000000000002\n",
      "0000000000000003\n",
      "0000000000000004\n",
      "Wall time: 1e+03 µs\n"
     ]
    }
   ],
   "source": [
    "%%time\n",
    "for crypto in CBC_list[:5]:\n",
    "    print(crypto)\n",
    "for msg in CBC_dec_list[:5]:\n",
    "    print(msg)"
   ]
  },
  {
   "cell_type": "markdown",
   "metadata": {},
   "source": [
    "###### ECB Ciphertexts"
   ]
  },
  {
   "cell_type": "code",
   "execution_count": 8,
   "metadata": {
    "collapsed": false
   },
   "outputs": [
    {
     "name": "stdout",
     "output_type": "stream",
     "text": [
      "ECB_list length = 100000\n",
      "ECB_dec_list length = 100000\n",
      "Wall time: 2.93 s\n"
     ]
    }
   ],
   "source": [
    "%%time\n",
    "key = 'mysecretpassword'\n",
    "\n",
    "ECB_list = []\n",
    "for x, i in enumerate(range(0,100000)):\n",
    "    ECB_list.append(encrypt(str(i).zfill(16), key, 'ECB'))\n",
    "\n",
    "print'ECB_list length =', len(ECB_list)\n",
    "\n",
    "ECB_dec_list = []\n",
    "for crypto in ECB_list:\n",
    "    ECB_dec_list.append(decrypt(crypto, key, 'ECB'))\n",
    "    \n",
    "print'ECB_dec_list length =', len(ECB_dec_list)"
   ]
  },
  {
   "cell_type": "markdown",
   "metadata": {},
   "source": [
    "Ensure ECB encryption functionality."
   ]
  },
  {
   "cell_type": "code",
   "execution_count": 9,
   "metadata": {
    "collapsed": false,
    "scrolled": true
   },
   "outputs": [
    {
     "name": "stdout",
     "output_type": "stream",
     "text": [
      "4KCUt/zHuL9pGT9yKJMZ6Q==\n",
      "HzMEwaWa62Q8N5D2vu1RBA==\n",
      "gHttXYC2Rf+ROO+9t4bN3Q==\n",
      "ENtBVzOvJ8HYS5TN3hSKIQ==\n",
      "HrrQFKqFPwz9DOyNCLWV/w==\n",
      "0000000000000000\n",
      "0000000000000001\n",
      "0000000000000002\n",
      "0000000000000003\n",
      "0000000000000004\n",
      "Wall time: 1e+03 µs\n"
     ]
    }
   ],
   "source": [
    "%%time\n",
    "for crypto in ECB_list[:5]:\n",
    "    print(crypto)\n",
    "for msg in ECB_dec_list[:5]:\n",
    "    print(msg)"
   ]
  },
  {
   "cell_type": "markdown",
   "metadata": {},
   "source": [
    "###### CTR Ciphertexts"
   ]
  },
  {
   "cell_type": "code",
   "execution_count": 10,
   "metadata": {
    "collapsed": false
   },
   "outputs": [
    {
     "name": "stdout",
     "output_type": "stream",
     "text": [
      "CTR_list length = 100000\n",
      "CTR_dec_list length = 100000\n",
      "Wall time: 10.8 s\n"
     ]
    }
   ],
   "source": [
    "%%time\n",
    "key = 'mysecretpassword'\n",
    "\n",
    "CTR_list = []\n",
    "for x, i in enumerate(range(0,100000)):\n",
    "    CTR_list.append(encrypt(str(i).zfill(16), key, 'CTR'))\n",
    "\n",
    "print'CTR_list length =', len(CTR_list)\n",
    "\n",
    "CTR_dec_list = []\n",
    "for crypto in CTR_list:\n",
    "    CTR_dec_list.append(decrypt(crypto, key, 'CTR'))\n",
    "    \n",
    "print'CTR_dec_list length =', len(CTR_dec_list)"
   ]
  },
  {
   "cell_type": "markdown",
   "metadata": {},
   "source": [
    "Ensure CTR encryption functionality."
   ]
  },
  {
   "cell_type": "code",
   "execution_count": 11,
   "metadata": {
    "collapsed": false
   },
   "outputs": [
    {
     "name": "stdout",
     "output_type": "stream",
     "text": [
      "HoiZ3hVHRRG1k1kewwIrHQ==\n",
      "HoiZ3hVHRRG1k1kewwIrHA==\n",
      "HoiZ3hVHRRG1k1kewwIrHw==\n",
      "HoiZ3hVHRRG1k1kewwIrHg==\n",
      "HoiZ3hVHRRG1k1kewwIrGQ==\n",
      "0000000000000000\n",
      "0000000000000001\n",
      "0000000000000002\n",
      "0000000000000003\n",
      "0000000000000004\n",
      "Wall time: 6 ms\n"
     ]
    }
   ],
   "source": [
    "%%time\n",
    "for crypto in CTR_list[:5]:\n",
    "    print(crypto)\n",
    "for msg in CTR_dec_list[:5]:\n",
    "    print(msg)"
   ]
  },
  {
   "cell_type": "markdown",
   "metadata": {},
   "source": [
    "## Configure supporting library functions for sp800_22_tests python implementation\n",
    "*Note: The sp800_22_tests NIST Tests for Randomness python implementation is an open licence library created by Github user dj-on-github and is hosted in the sp800_22_tests repo at https://github.com/dj-on-github/sp800_22_tests. Code from this library has been extracted and modified in order to produce our study.*"
   ]
  },
  {
   "cell_type": "code",
   "execution_count": 12,
   "metadata": {
    "collapsed": true
   },
   "outputs": [],
   "source": [
    "from math import gamma,e\n",
    "\n",
    "# Continued Fraction Computation\n",
    "# 6.5.31 Handbook of Mathematical Functions, page 263\n",
    "#    Recursive implementation\n",
    "def upper_incomplete_gamma(a,x,d=0,iterations=100):\n",
    "    if d == iterations:\n",
    "        if ((d % 2) == 1):\n",
    "            return 1.0 # end iterations\n",
    "        else:\n",
    "            m = d/2\n",
    "            return x + (m-a)\n",
    "    if d == 0:\n",
    "        result = ((x**a) * (e**(-x)))/upper_incomplete_gamma(a,x,d=d+1)\n",
    "        return result\n",
    "    elif ((d % 2) == 1):\n",
    "        m = 1.0+((d-1.0)/2.0)\n",
    "        return x+ ((m-a)/(upper_incomplete_gamma(a,x,d=d+1)))\n",
    "    else:\n",
    "        m = d/2\n",
    "        return 1+(m/(upper_incomplete_gamma(a,x,d=d+1)))\n",
    "\n",
    "# 6.5.31 Handbook of Mathematical Functions, page 263\n",
    "#    Recursive implementation\n",
    "def upper_incomplete_gamma2(a,x,d=0,iterations=100):\n",
    "    if d == iterations:\n",
    "        return 1.0 \n",
    "    if d == 0:\n",
    "        result = ((x**a) * (e**(-x)))/upper_incomplete_gamma2(a,x,d=d+1)\n",
    "        return result\n",
    "    else:\n",
    "        m = (d*2)-1\n",
    "        return (m-a)+x+ ((d*(a-d))/(upper_incomplete_gamma2(a,x,d=d+1)))\n",
    "\n",
    "def lower_incomplete_gamma(a,x,d=0,iterations=100):\n",
    "    if d == iterations:\n",
    "        if ((d % 2) == 1):\n",
    "            return 1.0 # end iterations\n",
    "        else:\n",
    "            m = d/2\n",
    "            return x + (m-a)\n",
    "    if d == 0:\n",
    "        result = ((x**a) * (e**(-x)))/lower_incomplete_gamma(a,x,d=d+1)\n",
    "        return result\n",
    "    elif ((d % 2) == 1):\n",
    "        m = d - 1\n",
    "        n = (d-1.0)/2.0\n",
    "        return a + m - (((a+n)*x)/lower_incomplete_gamma(a,x,d=d+1))\n",
    "    else:\n",
    "        m = d-1\n",
    "        n = d/2.0\n",
    "        return a+m+((n*x)/(lower_incomplete_gamma(a,x,d=d+1)))\n",
    "\n",
    "def lower_incomplete_gamma2(a,x):\n",
    "    return gamma(a)-upper_incomplete_gamma2(a,x)\n",
    "\n",
    "def complimentary_incomplete_gamma(a,x):\n",
    "    return 1.0-upper_incomplete_gamma(a,x)\n",
    "\n",
    "# Scipy name mappings\n",
    "def gammainc(a,x):\n",
    "    return lower_incomplete_gamma(a,x)/gamma(a)\n",
    "\n",
    "def gammaincc(a,x):\n",
    "    return upper_incomplete_gamma(a,x)/gamma(a)\n",
    "   \n"
   ]
  },
  {
   "cell_type": "code",
   "execution_count": 13,
   "metadata": {
    "collapsed": true
   },
   "outputs": [],
   "source": [
    "def count_ones_zeroes(bits):\n",
    "    ones = 0\n",
    "    zeroes = 0\n",
    "    for bit in bits:\n",
    "        if (bit == 1):\n",
    "            ones += 1\n",
    "        else:\n",
    "            zeroes += 1\n",
    "    return (zeroes,ones)"
   ]
  },
  {
   "cell_type": "markdown",
   "metadata": {},
   "source": [
    "## Perform Tests for Randomness\n",
    "In this section, we first process how many ones and how many zeroes are contained within each ciphertext contained within each ciphertext list, produced by each mode of AES operation above. We then apply each test to each ciphertext binary value for evaluation, and p-value results are stored for later review."
   ]
  },
  {
   "cell_type": "markdown",
   "metadata": {
    "collapsed": true
   },
   "source": [
    "#### Monobit Testing"
   ]
  },
  {
   "cell_type": "markdown",
   "metadata": {},
   "source": [
    "Configure test function"
   ]
  },
  {
   "cell_type": "code",
   "execution_count": 14,
   "metadata": {
    "collapsed": true
   },
   "outputs": [],
   "source": [
    "def monobit_test(bits):\n",
    "    n = len(bits)\n",
    "    \n",
    "    zeroes,ones = count_ones_zeroes(bits)\n",
    "    s = abs(ones-zeroes)\n",
    "    print \"  Ones count   = %d\" % ones\n",
    "    print \"  Zeroes count = %d\" % zeroes\n",
    "    \n",
    "    p = math.erfc(float(s)/(math.sqrt(float(n)) * math.sqrt(2.0)))\n",
    "    \n",
    "    success = (p >= 0.1)\n",
    "    return (p,zeroes,ones)"
   ]
  },
  {
   "cell_type": "markdown",
   "metadata": {},
   "source": [
    "Setup emtpy lists (Count lists only need to be generated during monobit testing... will be reused in other test dataframes that follow)"
   ]
  },
  {
   "cell_type": "code",
   "execution_count": 15,
   "metadata": {
    "collapsed": true
   },
   "outputs": [],
   "source": [
    "CBC_0Count = []\n",
    "ECB_0Count = []\n",
    "CTR_0Count = []\n",
    "CBC_1Count = []\n",
    "ECB_1Count = []\n",
    "CTR_1Count = []\n",
    "\n",
    "CBC_mono_pvals = []\n",
    "ECB_mono_pvals = []\n",
    "CTR_mono_pvals = []"
   ]
  },
  {
   "cell_type": "markdown",
   "metadata": {},
   "source": [
    "Perform test."
   ]
  },
  {
   "cell_type": "code",
   "execution_count": 16,
   "metadata": {
    "collapsed": false,
    "scrolled": true
   },
   "outputs": [
    {
     "name": "stdout",
     "output_type": "stream",
     "text": [
      "Wall time: 59.7 s\n"
     ]
    }
   ],
   "source": [
    "%%time\n",
    "%%capture\n",
    "## Hide list output for now with %%capture\n",
    "for i in CBC_list:\n",
    "    try:\n",
    "        ba = bitarray.bitarray()\n",
    "        ba.frombytes(i.encode('utf-8'))\n",
    "        CBC_mono_pvals.append(monobit_test(ba)[0])\n",
    "        CBC_0Count.append(monobit_test(ba)[1])\n",
    "        CBC_1Count.append(monobit_test(ba)[2])\n",
    "    except: pass\n",
    "\n",
    "for i in ECB_list:\n",
    "    try:\n",
    "        ba = bitarray.bitarray()\n",
    "        ba.frombytes(i.encode('utf-8'))\n",
    "        ECB_mono_pvals.append(monobit_test(ba)[0])\n",
    "        ECB_0Count.append(monobit_test(ba)[1])\n",
    "        ECB_1Count.append(monobit_test(ba)[2])\n",
    "    except: pass\n",
    "    \n",
    "for i in CTR_list:\n",
    "    try:\n",
    "        ba = bitarray.bitarray()\n",
    "        ba.frombytes(i.encode('utf-8'))\n",
    "        CTR_mono_pvals.append(monobit_test(ba)[0])\n",
    "        CTR_0Count.append(monobit_test(ba)[1])\n",
    "        CTR_1Count.append(monobit_test(ba)[2])\n",
    "    except: pass"
   ]
  },
  {
   "cell_type": "markdown",
   "metadata": {},
   "source": [
    "Consolidate results into dataframes which will be added to in subsequent tests."
   ]
  },
  {
   "cell_type": "code",
   "execution_count": 17,
   "metadata": {
    "collapsed": false
   },
   "outputs": [
    {
     "data": {
      "text/html": [
       "<div>\n",
       "<table border=\"1\" class=\"dataframe\">\n",
       "  <thead>\n",
       "    <tr style=\"text-align: right;\">\n",
       "      <th></th>\n",
       "      <th>CBC_0Count</th>\n",
       "      <th>CBC_1Count</th>\n",
       "      <th>mono_pval</th>\n",
       "    </tr>\n",
       "  </thead>\n",
       "  <tbody>\n",
       "    <tr>\n",
       "      <th>count</th>\n",
       "      <td>100000.00000</td>\n",
       "      <td>100000.00000</td>\n",
       "      <td>100000.000000</td>\n",
       "    </tr>\n",
       "    <tr>\n",
       "      <th>mean</th>\n",
       "      <td>98.63086</td>\n",
       "      <td>93.36914</td>\n",
       "      <td>0.574541</td>\n",
       "    </tr>\n",
       "    <tr>\n",
       "      <th>std</th>\n",
       "      <td>4.74178</td>\n",
       "      <td>4.74178</td>\n",
       "      <td>0.264417</td>\n",
       "    </tr>\n",
       "    <tr>\n",
       "      <th>min</th>\n",
       "      <td>76.00000</td>\n",
       "      <td>73.00000</td>\n",
       "      <td>0.000901</td>\n",
       "    </tr>\n",
       "    <tr>\n",
       "      <th>25%</th>\n",
       "      <td>95.00000</td>\n",
       "      <td>90.00000</td>\n",
       "      <td>0.386476</td>\n",
       "    </tr>\n",
       "    <tr>\n",
       "      <th>50%</th>\n",
       "      <td>99.00000</td>\n",
       "      <td>93.00000</td>\n",
       "      <td>0.563703</td>\n",
       "    </tr>\n",
       "    <tr>\n",
       "      <th>75%</th>\n",
       "      <td>102.00000</td>\n",
       "      <td>97.00000</td>\n",
       "      <td>0.772830</td>\n",
       "    </tr>\n",
       "    <tr>\n",
       "      <th>max</th>\n",
       "      <td>119.00000</td>\n",
       "      <td>116.00000</td>\n",
       "      <td>1.000000</td>\n",
       "    </tr>\n",
       "  </tbody>\n",
       "</table>\n",
       "</div>"
      ],
      "text/plain": [
       "         CBC_0Count    CBC_1Count      mono_pval\n",
       "count  100000.00000  100000.00000  100000.000000\n",
       "mean       98.63086      93.36914       0.574541\n",
       "std         4.74178       4.74178       0.264417\n",
       "min        76.00000      73.00000       0.000901\n",
       "25%        95.00000      90.00000       0.386476\n",
       "50%        99.00000      93.00000       0.563703\n",
       "75%       102.00000      97.00000       0.772830\n",
       "max       119.00000     116.00000       1.000000"
      ]
     },
     "metadata": {},
     "output_type": "display_data"
    },
    {
     "data": {
      "text/html": [
       "<div>\n",
       "<table border=\"1\" class=\"dataframe\">\n",
       "  <thead>\n",
       "    <tr style=\"text-align: right;\">\n",
       "      <th></th>\n",
       "      <th>CBC_ciph</th>\n",
       "      <th>CBC_0Count</th>\n",
       "      <th>CBC_1Count</th>\n",
       "      <th>mono_pval</th>\n",
       "    </tr>\n",
       "  </thead>\n",
       "  <tbody>\n",
       "    <tr>\n",
       "      <th>99995</th>\n",
       "      <td>TD4eFQgRU9T6tJ2quVXDwA==</td>\n",
       "      <td>105</td>\n",
       "      <td>87</td>\n",
       "      <td>0.193931</td>\n",
       "    </tr>\n",
       "    <tr>\n",
       "      <th>99996</th>\n",
       "      <td>pJeM6Vt+5MJDMAVrTePUOA==</td>\n",
       "      <td>105</td>\n",
       "      <td>87</td>\n",
       "      <td>0.193931</td>\n",
       "    </tr>\n",
       "    <tr>\n",
       "      <th>99997</th>\n",
       "      <td>+qnDp9N3il1BOwjzoarf6g==</td>\n",
       "      <td>93</td>\n",
       "      <td>99</td>\n",
       "      <td>0.665006</td>\n",
       "    </tr>\n",
       "    <tr>\n",
       "      <th>99998</th>\n",
       "      <td>QPtQyOxXNsGz6HQAjkZnDA==</td>\n",
       "      <td>102</td>\n",
       "      <td>90</td>\n",
       "      <td>0.386476</td>\n",
       "    </tr>\n",
       "    <tr>\n",
       "      <th>99999</th>\n",
       "      <td>jqOTs97A7UcfrY+0DeQerA==</td>\n",
       "      <td>100</td>\n",
       "      <td>92</td>\n",
       "      <td>0.563703</td>\n",
       "    </tr>\n",
       "  </tbody>\n",
       "</table>\n",
       "</div>"
      ],
      "text/plain": [
       "                       CBC_ciph  CBC_0Count  CBC_1Count  mono_pval\n",
       "99995  TD4eFQgRU9T6tJ2quVXDwA==         105          87   0.193931\n",
       "99996  pJeM6Vt+5MJDMAVrTePUOA==         105          87   0.193931\n",
       "99997  +qnDp9N3il1BOwjzoarf6g==          93          99   0.665006\n",
       "99998  QPtQyOxXNsGz6HQAjkZnDA==         102          90   0.386476\n",
       "99999  jqOTs97A7UcfrY+0DeQerA==         100          92   0.563703"
      ]
     },
     "metadata": {},
     "output_type": "display_data"
    }
   ],
   "source": [
    "CBC_ciph = pd.Series(CBC_list, name='CBC_ciph')\n",
    "mono_pval = pd.Series(CBC_mono_pvals, name='mono_pval')\n",
    "CBC_0Count = pd.Series(CBC_0Count, name='CBC_0Count')\n",
    "CBC_1Count = pd.Series(CBC_1Count, name='CBC_1Count')\n",
    "CBC_df = pd.concat([CBC_ciph, CBC_0Count, CBC_1Count, mono_pval], axis=1)\n",
    "CBC_df.CBC_0Count = CBC_df.CBC_0Count.astype(int)\n",
    "CBC_df.CBC_1Count = CBC_df.CBC_1Count.astype(int)\n",
    "\n",
    "display(CBC_df.describe())\n",
    "display(CBC_df.tail())"
   ]
  },
  {
   "cell_type": "code",
   "execution_count": 18,
   "metadata": {
    "collapsed": false
   },
   "outputs": [
    {
     "data": {
      "text/html": [
       "<div>\n",
       "<table border=\"1\" class=\"dataframe\">\n",
       "  <thead>\n",
       "    <tr style=\"text-align: right;\">\n",
       "      <th></th>\n",
       "      <th>ECB_0Count</th>\n",
       "      <th>ECB_1Count</th>\n",
       "      <th>mono_pval</th>\n",
       "    </tr>\n",
       "  </thead>\n",
       "  <tbody>\n",
       "    <tr>\n",
       "      <th>count</th>\n",
       "      <td>100000.000000</td>\n",
       "      <td>100000.000000</td>\n",
       "      <td>100000.000000</td>\n",
       "    </tr>\n",
       "    <tr>\n",
       "      <th>mean</th>\n",
       "      <td>98.584460</td>\n",
       "      <td>93.415540</td>\n",
       "      <td>0.576041</td>\n",
       "    </tr>\n",
       "    <tr>\n",
       "      <th>std</th>\n",
       "      <td>4.745397</td>\n",
       "      <td>4.745397</td>\n",
       "      <td>0.264399</td>\n",
       "    </tr>\n",
       "    <tr>\n",
       "      <th>min</th>\n",
       "      <td>76.000000</td>\n",
       "      <td>74.000000</td>\n",
       "      <td>0.001496</td>\n",
       "    </tr>\n",
       "    <tr>\n",
       "      <th>25%</th>\n",
       "      <td>95.000000</td>\n",
       "      <td>90.000000</td>\n",
       "      <td>0.386476</td>\n",
       "    </tr>\n",
       "    <tr>\n",
       "      <th>50%</th>\n",
       "      <td>99.000000</td>\n",
       "      <td>93.000000</td>\n",
       "      <td>0.563703</td>\n",
       "    </tr>\n",
       "    <tr>\n",
       "      <th>75%</th>\n",
       "      <td>102.000000</td>\n",
       "      <td>97.000000</td>\n",
       "      <td>0.772830</td>\n",
       "    </tr>\n",
       "    <tr>\n",
       "      <th>max</th>\n",
       "      <td>118.000000</td>\n",
       "      <td>116.000000</td>\n",
       "      <td>1.000000</td>\n",
       "    </tr>\n",
       "  </tbody>\n",
       "</table>\n",
       "</div>"
      ],
      "text/plain": [
       "          ECB_0Count     ECB_1Count      mono_pval\n",
       "count  100000.000000  100000.000000  100000.000000\n",
       "mean       98.584460      93.415540       0.576041\n",
       "std         4.745397       4.745397       0.264399\n",
       "min        76.000000      74.000000       0.001496\n",
       "25%        95.000000      90.000000       0.386476\n",
       "50%        99.000000      93.000000       0.563703\n",
       "75%       102.000000      97.000000       0.772830\n",
       "max       118.000000     116.000000       1.000000"
      ]
     },
     "metadata": {},
     "output_type": "display_data"
    },
    {
     "data": {
      "text/html": [
       "<div>\n",
       "<table border=\"1\" class=\"dataframe\">\n",
       "  <thead>\n",
       "    <tr style=\"text-align: right;\">\n",
       "      <th></th>\n",
       "      <th>ECB_ciph</th>\n",
       "      <th>ECB_0Count</th>\n",
       "      <th>ECB_1Count</th>\n",
       "      <th>mono_pval</th>\n",
       "    </tr>\n",
       "  </thead>\n",
       "  <tbody>\n",
       "    <tr>\n",
       "      <th>99995</th>\n",
       "      <td>ZYZBGCNARNyAQx1kzUf0kw==</td>\n",
       "      <td>100</td>\n",
       "      <td>92</td>\n",
       "      <td>0.563703</td>\n",
       "    </tr>\n",
       "    <tr>\n",
       "      <th>99996</th>\n",
       "      <td>80IvGZfszbfdy6pIWMg5Mg==</td>\n",
       "      <td>95</td>\n",
       "      <td>97</td>\n",
       "      <td>0.885234</td>\n",
       "    </tr>\n",
       "    <tr>\n",
       "      <th>99997</th>\n",
       "      <td>qL8UZHGqgP/bLY6+NQ+qdg==</td>\n",
       "      <td>101</td>\n",
       "      <td>91</td>\n",
       "      <td>0.470486</td>\n",
       "    </tr>\n",
       "    <tr>\n",
       "      <th>99998</th>\n",
       "      <td>dd88bfmOwex30JmMj6hd1w==</td>\n",
       "      <td>98</td>\n",
       "      <td>94</td>\n",
       "      <td>0.772830</td>\n",
       "    </tr>\n",
       "    <tr>\n",
       "      <th>99999</th>\n",
       "      <td>CJYXi4LNmLbj3xlzQyZtFQ==</td>\n",
       "      <td>101</td>\n",
       "      <td>91</td>\n",
       "      <td>0.470486</td>\n",
       "    </tr>\n",
       "  </tbody>\n",
       "</table>\n",
       "</div>"
      ],
      "text/plain": [
       "                       ECB_ciph  ECB_0Count  ECB_1Count  mono_pval\n",
       "99995  ZYZBGCNARNyAQx1kzUf0kw==         100          92   0.563703\n",
       "99996  80IvGZfszbfdy6pIWMg5Mg==          95          97   0.885234\n",
       "99997  qL8UZHGqgP/bLY6+NQ+qdg==         101          91   0.470486\n",
       "99998  dd88bfmOwex30JmMj6hd1w==          98          94   0.772830\n",
       "99999  CJYXi4LNmLbj3xlzQyZtFQ==         101          91   0.470486"
      ]
     },
     "metadata": {},
     "output_type": "display_data"
    }
   ],
   "source": [
    "ECB_ciph = pd.Series(ECB_list, name='ECB_ciph')\n",
    "mono_pval = pd.Series(ECB_mono_pvals, name='mono_pval')\n",
    "ECB_0Count = pd.Series(ECB_0Count, name='ECB_0Count')\n",
    "ECB_1Count = pd.Series(ECB_1Count, name='ECB_1Count')\n",
    "ECB_df = pd.concat([ECB_ciph, ECB_0Count, ECB_1Count, mono_pval], axis=1)\n",
    "ECB_df.ECB_0Count = ECB_df.ECB_0Count.astype(int)\n",
    "ECB_df.ECB_1Count = ECB_df.ECB_1Count.astype(int)\n",
    "\n",
    "display(ECB_df.describe())\n",
    "display(ECB_df.tail())"
   ]
  },
  {
   "cell_type": "code",
   "execution_count": 19,
   "metadata": {
    "collapsed": false
   },
   "outputs": [
    {
     "data": {
      "text/html": [
       "<div>\n",
       "<table border=\"1\" class=\"dataframe\">\n",
       "  <thead>\n",
       "    <tr style=\"text-align: right;\">\n",
       "      <th></th>\n",
       "      <th>CTR_0Count</th>\n",
       "      <th>CTR_1Count</th>\n",
       "      <th>mono_pval</th>\n",
       "    </tr>\n",
       "  </thead>\n",
       "  <tbody>\n",
       "    <tr>\n",
       "      <th>count</th>\n",
       "      <td>100000.000000</td>\n",
       "      <td>100000.000000</td>\n",
       "      <td>100000.000000</td>\n",
       "    </tr>\n",
       "    <tr>\n",
       "      <th>mean</th>\n",
       "      <td>99.100000</td>\n",
       "      <td>92.900000</td>\n",
       "      <td>0.631723</td>\n",
       "    </tr>\n",
       "    <tr>\n",
       "      <th>std</th>\n",
       "      <td>2.937701</td>\n",
       "      <td>2.937701</td>\n",
       "      <td>0.225039</td>\n",
       "    </tr>\n",
       "    <tr>\n",
       "      <th>min</th>\n",
       "      <td>88.000000</td>\n",
       "      <td>83.000000</td>\n",
       "      <td>0.060602</td>\n",
       "    </tr>\n",
       "    <tr>\n",
       "      <th>25%</th>\n",
       "      <td>97.000000</td>\n",
       "      <td>91.000000</td>\n",
       "      <td>0.470486</td>\n",
       "    </tr>\n",
       "    <tr>\n",
       "      <th>50%</th>\n",
       "      <td>99.000000</td>\n",
       "      <td>93.000000</td>\n",
       "      <td>0.665006</td>\n",
       "    </tr>\n",
       "    <tr>\n",
       "      <th>75%</th>\n",
       "      <td>101.000000</td>\n",
       "      <td>95.000000</td>\n",
       "      <td>0.772830</td>\n",
       "    </tr>\n",
       "    <tr>\n",
       "      <th>max</th>\n",
       "      <td>109.000000</td>\n",
       "      <td>104.000000</td>\n",
       "      <td>1.000000</td>\n",
       "    </tr>\n",
       "  </tbody>\n",
       "</table>\n",
       "</div>"
      ],
      "text/plain": [
       "          CTR_0Count     CTR_1Count      mono_pval\n",
       "count  100000.000000  100000.000000  100000.000000\n",
       "mean       99.100000      92.900000       0.631723\n",
       "std         2.937701       2.937701       0.225039\n",
       "min        88.000000      83.000000       0.060602\n",
       "25%        97.000000      91.000000       0.470486\n",
       "50%        99.000000      93.000000       0.665006\n",
       "75%       101.000000      95.000000       0.772830\n",
       "max       109.000000     104.000000       1.000000"
      ]
     },
     "metadata": {},
     "output_type": "display_data"
    },
    {
     "data": {
      "text/html": [
       "<div>\n",
       "<table border=\"1\" class=\"dataframe\">\n",
       "  <thead>\n",
       "    <tr style=\"text-align: right;\">\n",
       "      <th></th>\n",
       "      <th>CTR_ciph</th>\n",
       "      <th>CTR_0Count</th>\n",
       "      <th>CTR_1Count</th>\n",
       "      <th>mono_pval</th>\n",
       "    </tr>\n",
       "  </thead>\n",
       "  <tbody>\n",
       "    <tr>\n",
       "      <th>99995</th>\n",
       "      <td>HoiZ3hVHRRG1k1kXygsiGA==</td>\n",
       "      <td>99</td>\n",
       "      <td>93</td>\n",
       "      <td>0.665006</td>\n",
       "    </tr>\n",
       "    <tr>\n",
       "      <th>99996</th>\n",
       "      <td>HoiZ3hVHRRG1k1kXygsiGw==</td>\n",
       "      <td>95</td>\n",
       "      <td>97</td>\n",
       "      <td>0.885234</td>\n",
       "    </tr>\n",
       "    <tr>\n",
       "      <th>99997</th>\n",
       "      <td>HoiZ3hVHRRG1k1kXygsiGg==</td>\n",
       "      <td>96</td>\n",
       "      <td>96</td>\n",
       "      <td>1.000000</td>\n",
       "    </tr>\n",
       "    <tr>\n",
       "      <th>99998</th>\n",
       "      <td>HoiZ3hVHRRG1k1kXygsiFQ==</td>\n",
       "      <td>99</td>\n",
       "      <td>93</td>\n",
       "      <td>0.665006</td>\n",
       "    </tr>\n",
       "    <tr>\n",
       "      <th>99999</th>\n",
       "      <td>HoiZ3hVHRRG1k1kXygsiFA==</td>\n",
       "      <td>100</td>\n",
       "      <td>92</td>\n",
       "      <td>0.563703</td>\n",
       "    </tr>\n",
       "  </tbody>\n",
       "</table>\n",
       "</div>"
      ],
      "text/plain": [
       "                       CTR_ciph  CTR_0Count  CTR_1Count  mono_pval\n",
       "99995  HoiZ3hVHRRG1k1kXygsiGA==          99          93   0.665006\n",
       "99996  HoiZ3hVHRRG1k1kXygsiGw==          95          97   0.885234\n",
       "99997  HoiZ3hVHRRG1k1kXygsiGg==          96          96   1.000000\n",
       "99998  HoiZ3hVHRRG1k1kXygsiFQ==          99          93   0.665006\n",
       "99999  HoiZ3hVHRRG1k1kXygsiFA==         100          92   0.563703"
      ]
     },
     "metadata": {},
     "output_type": "display_data"
    }
   ],
   "source": [
    "CTR_ciph = pd.Series(CTR_list, name='CTR_ciph')\n",
    "mono_pval = pd.Series(CTR_mono_pvals, name='mono_pval')\n",
    "CTR_0Count = pd.Series(CTR_0Count, name='CTR_0Count')\n",
    "CTR_1Count = pd.Series(CTR_1Count, name='CTR_1Count')\n",
    "CTR_df = pd.concat([CTR_ciph, CTR_0Count, CTR_1Count, mono_pval], axis=1)\n",
    "CTR_df.CTR_0Count = CTR_df.CTR_0Count.astype(int)\n",
    "CTR_df.CTR_1Count = CTR_df.CTR_1Count.astype(int)\n",
    "\n",
    "display(CTR_df.describe())\n",
    "display(CTR_df.tail())"
   ]
  },
  {
   "cell_type": "markdown",
   "metadata": {},
   "source": [
    "#### frequency_within_block_test"
   ]
  },
  {
   "cell_type": "markdown",
   "metadata": {},
   "source": [
    "Configure test function"
   ]
  },
  {
   "cell_type": "code",
   "execution_count": 20,
   "metadata": {
    "collapsed": false
   },
   "outputs": [],
   "source": [
    "import math\n",
    "from fractions import Fraction\n",
    "#from scipy.special import gamma, gammainc, gammaincc\n",
    "#from gamma_functions import *\n",
    "\n",
    "def frequency_within_block_test(bits):\n",
    "    # Compute number of blocks M = block size. N=num of blocks\n",
    "    # N = floor(n/M)\n",
    "    # miniumum block size 20 bits, most blocks 100\n",
    "    n = len(bits)\n",
    "    M = 20\n",
    "    N = int(math.floor(n/M))\n",
    "    if N > 99:\n",
    "        N=99\n",
    "        M = int(math.floor(n/N))\n",
    "    \n",
    "    if len(bits) < 100:\n",
    "        print \"Too little data for test. Supply at least 100 bits\"\n",
    "        return FAIL,1.0,None\n",
    "    \n",
    "    print \"  n = %d\" % len(bits)\n",
    "    print \"  N = %d\" % N\n",
    "    print \"  M = %d\" % M\n",
    "    \n",
    "    num_of_blocks = N\n",
    "    block_size = M #int(math.floor(len(bits)/num_of_blocks))\n",
    "    #n = int(block_size * num_of_blocks)\n",
    "    \n",
    "    proportions = list()\n",
    "    for i in xrange(num_of_blocks):\n",
    "        block = bits[i*(block_size):((i+1)*(block_size))]\n",
    "        zeroes,ones = count_ones_zeroes(block)\n",
    "        proportions.append(Fraction(ones,block_size))\n",
    "\n",
    "    chisq = 0.0\n",
    "    for prop in proportions:\n",
    "        chisq += 4.0*block_size*((prop - Fraction(1,2))**2)\n",
    "    \n",
    "    p = gammaincc((num_of_blocks/2.0),float(chisq)/2.0)\n",
    "    success = (p >= 0.01)\n",
    "    return (p)"
   ]
  },
  {
   "cell_type": "markdown",
   "metadata": {
    "collapsed": true
   },
   "source": [
    "Setup emtpy lists"
   ]
  },
  {
   "cell_type": "code",
   "execution_count": 21,
   "metadata": {
    "collapsed": true
   },
   "outputs": [],
   "source": [
    "CBC_FwB_pvals = []\n",
    "ECB_FwB_pvals = []\n",
    "CTR_FwB_pvals = []"
   ]
  },
  {
   "cell_type": "markdown",
   "metadata": {},
   "source": [
    "Perform test."
   ]
  },
  {
   "cell_type": "code",
   "execution_count": 22,
   "metadata": {
    "collapsed": false,
    "scrolled": true
   },
   "outputs": [
    {
     "name": "stdout",
     "output_type": "stream",
     "text": [
      "Wall time: 3min 48s\n"
     ]
    }
   ],
   "source": [
    "%%time\n",
    "%%capture\n",
    "## Hide list output for now with %%capture\n",
    "for i in CBC_list:\n",
    "    try:\n",
    "        ba = bitarray.bitarray()\n",
    "        ba.frombytes(i.encode('utf-8'))\n",
    "        CBC_FwB_pvals.append(frequency_within_block_test(ba))\n",
    "    except: pass\n",
    "\n",
    "for i in ECB_list:\n",
    "    try:\n",
    "        ba = bitarray.bitarray()\n",
    "        ba.frombytes(i.encode('utf-8'))\n",
    "        ECB_FwB_pvals.append(frequency_within_block_test(ba))\n",
    "    except: pass\n",
    "    \n",
    "for i in CTR_list:\n",
    "    try:\n",
    "        ba = bitarray.bitarray()\n",
    "        ba.frombytes(i.encode('utf-8'))\n",
    "        CTR_FwB_pvals.append(frequency_within_block_test(ba))\n",
    "    except: pass"
   ]
  },
  {
   "cell_type": "code",
   "execution_count": 23,
   "metadata": {
    "collapsed": true
   },
   "outputs": [],
   "source": [
    "def add2DF(df, pvals, name):\n",
    "    pvalS = pd.Series(pvals, name=name)\n",
    "    dfAdd = pd.concat([df, pvalS], axis=1)\n",
    "    display(dfAdd.describe())\n",
    "    display(dfAdd.tail())\n",
    "    return(dfAdd)"
   ]
  },
  {
   "cell_type": "code",
   "execution_count": 24,
   "metadata": {
    "collapsed": false
   },
   "outputs": [
    {
     "data": {
      "text/html": [
       "<div>\n",
       "<table border=\"1\" class=\"dataframe\">\n",
       "  <thead>\n",
       "    <tr style=\"text-align: right;\">\n",
       "      <th></th>\n",
       "      <th>CBC_0Count</th>\n",
       "      <th>CBC_1Count</th>\n",
       "      <th>mono_pval</th>\n",
       "      <th>freqWithinBlock_pval</th>\n",
       "    </tr>\n",
       "  </thead>\n",
       "  <tbody>\n",
       "    <tr>\n",
       "      <th>count</th>\n",
       "      <td>100000.00000</td>\n",
       "      <td>100000.00000</td>\n",
       "      <td>100000.000000</td>\n",
       "      <td>100000.000000</td>\n",
       "    </tr>\n",
       "    <tr>\n",
       "      <th>mean</th>\n",
       "      <td>98.63086</td>\n",
       "      <td>93.36914</td>\n",
       "      <td>0.574541</td>\n",
       "      <td>0.783510</td>\n",
       "    </tr>\n",
       "    <tr>\n",
       "      <th>std</th>\n",
       "      <td>4.74178</td>\n",
       "      <td>4.74178</td>\n",
       "      <td>0.264417</td>\n",
       "      <td>0.189767</td>\n",
       "    </tr>\n",
       "    <tr>\n",
       "      <th>min</th>\n",
       "      <td>76.00000</td>\n",
       "      <td>73.00000</td>\n",
       "      <td>0.000901</td>\n",
       "      <td>0.014550</td>\n",
       "    </tr>\n",
       "    <tr>\n",
       "      <th>25%</th>\n",
       "      <td>95.00000</td>\n",
       "      <td>90.00000</td>\n",
       "      <td>0.386476</td>\n",
       "      <td>0.678686</td>\n",
       "    </tr>\n",
       "    <tr>\n",
       "      <th>50%</th>\n",
       "      <td>99.00000</td>\n",
       "      <td>93.00000</td>\n",
       "      <td>0.563703</td>\n",
       "      <td>0.834308</td>\n",
       "    </tr>\n",
       "    <tr>\n",
       "      <th>75%</th>\n",
       "      <td>102.00000</td>\n",
       "      <td>97.00000</td>\n",
       "      <td>0.772830</td>\n",
       "      <td>0.935716</td>\n",
       "    </tr>\n",
       "    <tr>\n",
       "      <th>max</th>\n",
       "      <td>119.00000</td>\n",
       "      <td>116.00000</td>\n",
       "      <td>1.000000</td>\n",
       "      <td>1.000008</td>\n",
       "    </tr>\n",
       "  </tbody>\n",
       "</table>\n",
       "</div>"
      ],
      "text/plain": [
       "         CBC_0Count    CBC_1Count      mono_pval  freqWithinBlock_pval\n",
       "count  100000.00000  100000.00000  100000.000000         100000.000000\n",
       "mean       98.63086      93.36914       0.574541              0.783510\n",
       "std         4.74178       4.74178       0.264417              0.189767\n",
       "min        76.00000      73.00000       0.000901              0.014550\n",
       "25%        95.00000      90.00000       0.386476              0.678686\n",
       "50%        99.00000      93.00000       0.563703              0.834308\n",
       "75%       102.00000      97.00000       0.772830              0.935716\n",
       "max       119.00000     116.00000       1.000000              1.000008"
      ]
     },
     "metadata": {},
     "output_type": "display_data"
    },
    {
     "data": {
      "text/html": [
       "<div>\n",
       "<table border=\"1\" class=\"dataframe\">\n",
       "  <thead>\n",
       "    <tr style=\"text-align: right;\">\n",
       "      <th></th>\n",
       "      <th>CBC_ciph</th>\n",
       "      <th>CBC_0Count</th>\n",
       "      <th>CBC_1Count</th>\n",
       "      <th>mono_pval</th>\n",
       "      <th>freqWithinBlock_pval</th>\n",
       "    </tr>\n",
       "  </thead>\n",
       "  <tbody>\n",
       "    <tr>\n",
       "      <th>99995</th>\n",
       "      <td>TD4eFQgRU9T6tJ2quVXDwA==</td>\n",
       "      <td>105</td>\n",
       "      <td>87</td>\n",
       "      <td>0.193931</td>\n",
       "      <td>0.678686</td>\n",
       "    </tr>\n",
       "    <tr>\n",
       "      <th>99996</th>\n",
       "      <td>pJeM6Vt+5MJDMAVrTePUOA==</td>\n",
       "      <td>105</td>\n",
       "      <td>87</td>\n",
       "      <td>0.193931</td>\n",
       "      <td>0.759756</td>\n",
       "    </tr>\n",
       "    <tr>\n",
       "      <th>99997</th>\n",
       "      <td>+qnDp9N3il1BOwjzoarf6g==</td>\n",
       "      <td>93</td>\n",
       "      <td>99</td>\n",
       "      <td>0.665006</td>\n",
       "      <td>0.401199</td>\n",
       "    </tr>\n",
       "    <tr>\n",
       "      <th>99998</th>\n",
       "      <td>QPtQyOxXNsGz6HQAjkZnDA==</td>\n",
       "      <td>102</td>\n",
       "      <td>90</td>\n",
       "      <td>0.386476</td>\n",
       "      <td>0.534146</td>\n",
       "    </tr>\n",
       "    <tr>\n",
       "      <th>99999</th>\n",
       "      <td>jqOTs97A7UcfrY+0DeQerA==</td>\n",
       "      <td>100</td>\n",
       "      <td>92</td>\n",
       "      <td>0.563703</td>\n",
       "      <td>0.779188</td>\n",
       "    </tr>\n",
       "  </tbody>\n",
       "</table>\n",
       "</div>"
      ],
      "text/plain": [
       "                       CBC_ciph  CBC_0Count  CBC_1Count  mono_pval  \\\n",
       "99995  TD4eFQgRU9T6tJ2quVXDwA==         105          87   0.193931   \n",
       "99996  pJeM6Vt+5MJDMAVrTePUOA==         105          87   0.193931   \n",
       "99997  +qnDp9N3il1BOwjzoarf6g==          93          99   0.665006   \n",
       "99998  QPtQyOxXNsGz6HQAjkZnDA==         102          90   0.386476   \n",
       "99999  jqOTs97A7UcfrY+0DeQerA==         100          92   0.563703   \n",
       "\n",
       "       freqWithinBlock_pval  \n",
       "99995              0.678686  \n",
       "99996              0.759756  \n",
       "99997              0.401199  \n",
       "99998              0.534146  \n",
       "99999              0.779188  "
      ]
     },
     "metadata": {},
     "output_type": "display_data"
    }
   ],
   "source": [
    "CBC_df2 = add2DF(CBC_df, CBC_FwB_pvals, 'freqWithinBlock_pval')"
   ]
  },
  {
   "cell_type": "code",
   "execution_count": 25,
   "metadata": {
    "collapsed": false
   },
   "outputs": [
    {
     "data": {
      "text/html": [
       "<div>\n",
       "<table border=\"1\" class=\"dataframe\">\n",
       "  <thead>\n",
       "    <tr style=\"text-align: right;\">\n",
       "      <th></th>\n",
       "      <th>ECB_0Count</th>\n",
       "      <th>ECB_1Count</th>\n",
       "      <th>mono_pval</th>\n",
       "      <th>freqWithinBlock_pval</th>\n",
       "    </tr>\n",
       "  </thead>\n",
       "  <tbody>\n",
       "    <tr>\n",
       "      <th>count</th>\n",
       "      <td>100000.000000</td>\n",
       "      <td>100000.000000</td>\n",
       "      <td>100000.000000</td>\n",
       "      <td>100000.000000</td>\n",
       "    </tr>\n",
       "    <tr>\n",
       "      <th>mean</th>\n",
       "      <td>98.584460</td>\n",
       "      <td>93.415540</td>\n",
       "      <td>0.576041</td>\n",
       "      <td>0.784410</td>\n",
       "    </tr>\n",
       "    <tr>\n",
       "      <th>std</th>\n",
       "      <td>4.745397</td>\n",
       "      <td>4.745397</td>\n",
       "      <td>0.264399</td>\n",
       "      <td>0.188427</td>\n",
       "    </tr>\n",
       "    <tr>\n",
       "      <th>min</th>\n",
       "      <td>76.000000</td>\n",
       "      <td>74.000000</td>\n",
       "      <td>0.001496</td>\n",
       "      <td>0.000000</td>\n",
       "    </tr>\n",
       "    <tr>\n",
       "      <th>25%</th>\n",
       "      <td>95.000000</td>\n",
       "      <td>90.000000</td>\n",
       "      <td>0.386476</td>\n",
       "      <td>0.678686</td>\n",
       "    </tr>\n",
       "    <tr>\n",
       "      <th>50%</th>\n",
       "      <td>99.000000</td>\n",
       "      <td>93.000000</td>\n",
       "      <td>0.563703</td>\n",
       "      <td>0.834308</td>\n",
       "    </tr>\n",
       "    <tr>\n",
       "      <th>75%</th>\n",
       "      <td>102.000000</td>\n",
       "      <td>97.000000</td>\n",
       "      <td>0.772830</td>\n",
       "      <td>0.935716</td>\n",
       "    </tr>\n",
       "    <tr>\n",
       "      <th>max</th>\n",
       "      <td>118.000000</td>\n",
       "      <td>116.000000</td>\n",
       "      <td>1.000000</td>\n",
       "      <td>1.000008</td>\n",
       "    </tr>\n",
       "  </tbody>\n",
       "</table>\n",
       "</div>"
      ],
      "text/plain": [
       "          ECB_0Count     ECB_1Count      mono_pval  freqWithinBlock_pval\n",
       "count  100000.000000  100000.000000  100000.000000         100000.000000\n",
       "mean       98.584460      93.415540       0.576041              0.784410\n",
       "std         4.745397       4.745397       0.264399              0.188427\n",
       "min        76.000000      74.000000       0.001496              0.000000\n",
       "25%        95.000000      90.000000       0.386476              0.678686\n",
       "50%        99.000000      93.000000       0.563703              0.834308\n",
       "75%       102.000000      97.000000       0.772830              0.935716\n",
       "max       118.000000     116.000000       1.000000              1.000008"
      ]
     },
     "metadata": {},
     "output_type": "display_data"
    },
    {
     "data": {
      "text/html": [
       "<div>\n",
       "<table border=\"1\" class=\"dataframe\">\n",
       "  <thead>\n",
       "    <tr style=\"text-align: right;\">\n",
       "      <th></th>\n",
       "      <th>ECB_ciph</th>\n",
       "      <th>ECB_0Count</th>\n",
       "      <th>ECB_1Count</th>\n",
       "      <th>mono_pval</th>\n",
       "      <th>freqWithinBlock_pval</th>\n",
       "    </tr>\n",
       "  </thead>\n",
       "  <tbody>\n",
       "    <tr>\n",
       "      <th>99995</th>\n",
       "      <td>ZYZBGCNARNyAQx1kzUf0kw==</td>\n",
       "      <td>100</td>\n",
       "      <td>92</td>\n",
       "      <td>0.563703</td>\n",
       "      <td>0.657933</td>\n",
       "    </tr>\n",
       "    <tr>\n",
       "      <th>99996</th>\n",
       "      <td>80IvGZfszbfdy6pIWMg5Mg==</td>\n",
       "      <td>95</td>\n",
       "      <td>97</td>\n",
       "      <td>0.885234</td>\n",
       "      <td>0.834308</td>\n",
       "    </tr>\n",
       "    <tr>\n",
       "      <th>99997</th>\n",
       "      <td>qL8UZHGqgP/bLY6+NQ+qdg==</td>\n",
       "      <td>101</td>\n",
       "      <td>91</td>\n",
       "      <td>0.470486</td>\n",
       "      <td>0.994250</td>\n",
       "    </tr>\n",
       "    <tr>\n",
       "      <th>99998</th>\n",
       "      <td>dd88bfmOwex30JmMj6hd1w==</td>\n",
       "      <td>98</td>\n",
       "      <td>94</td>\n",
       "      <td>0.772830</td>\n",
       "      <td>0.574903</td>\n",
       "    </tr>\n",
       "    <tr>\n",
       "      <th>99999</th>\n",
       "      <td>CJYXi4LNmLbj3xlzQyZtFQ==</td>\n",
       "      <td>101</td>\n",
       "      <td>91</td>\n",
       "      <td>0.470486</td>\n",
       "      <td>0.897763</td>\n",
       "    </tr>\n",
       "  </tbody>\n",
       "</table>\n",
       "</div>"
      ],
      "text/plain": [
       "                       ECB_ciph  ECB_0Count  ECB_1Count  mono_pval  \\\n",
       "99995  ZYZBGCNARNyAQx1kzUf0kw==         100          92   0.563703   \n",
       "99996  80IvGZfszbfdy6pIWMg5Mg==          95          97   0.885234   \n",
       "99997  qL8UZHGqgP/bLY6+NQ+qdg==         101          91   0.470486   \n",
       "99998  dd88bfmOwex30JmMj6hd1w==          98          94   0.772830   \n",
       "99999  CJYXi4LNmLbj3xlzQyZtFQ==         101          91   0.470486   \n",
       "\n",
       "       freqWithinBlock_pval  \n",
       "99995              0.657933  \n",
       "99996              0.834308  \n",
       "99997              0.994250  \n",
       "99998              0.574903  \n",
       "99999              0.897763  "
      ]
     },
     "metadata": {},
     "output_type": "display_data"
    }
   ],
   "source": [
    "ECB_df2 = add2DF(ECB_df, ECB_FwB_pvals, 'freqWithinBlock_pval')"
   ]
  },
  {
   "cell_type": "code",
   "execution_count": 26,
   "metadata": {
    "collapsed": false
   },
   "outputs": [
    {
     "data": {
      "text/html": [
       "<div>\n",
       "<table border=\"1\" class=\"dataframe\">\n",
       "  <thead>\n",
       "    <tr style=\"text-align: right;\">\n",
       "      <th></th>\n",
       "      <th>CTR_0Count</th>\n",
       "      <th>CTR_1Count</th>\n",
       "      <th>mono_pval</th>\n",
       "      <th>freqWithinBlock_pval</th>\n",
       "    </tr>\n",
       "  </thead>\n",
       "  <tbody>\n",
       "    <tr>\n",
       "      <th>count</th>\n",
       "      <td>100000.000000</td>\n",
       "      <td>100000.000000</td>\n",
       "      <td>100000.000000</td>\n",
       "      <td>100000.000000</td>\n",
       "    </tr>\n",
       "    <tr>\n",
       "      <th>mean</th>\n",
       "      <td>99.100000</td>\n",
       "      <td>92.900000</td>\n",
       "      <td>0.631723</td>\n",
       "      <td>0.819270</td>\n",
       "    </tr>\n",
       "    <tr>\n",
       "      <th>std</th>\n",
       "      <td>2.937701</td>\n",
       "      <td>2.937701</td>\n",
       "      <td>0.225039</td>\n",
       "      <td>0.122282</td>\n",
       "    </tr>\n",
       "    <tr>\n",
       "      <th>min</th>\n",
       "      <td>88.000000</td>\n",
       "      <td>83.000000</td>\n",
       "      <td>0.060602</td>\n",
       "      <td>0.108791</td>\n",
       "    </tr>\n",
       "    <tr>\n",
       "      <th>25%</th>\n",
       "      <td>97.000000</td>\n",
       "      <td>91.000000</td>\n",
       "      <td>0.470486</td>\n",
       "      <td>0.759756</td>\n",
       "    </tr>\n",
       "    <tr>\n",
       "      <th>50%</th>\n",
       "      <td>99.000000</td>\n",
       "      <td>93.000000</td>\n",
       "      <td>0.665006</td>\n",
       "      <td>0.851383</td>\n",
       "    </tr>\n",
       "    <tr>\n",
       "      <th>75%</th>\n",
       "      <td>101.000000</td>\n",
       "      <td>95.000000</td>\n",
       "      <td>0.772830</td>\n",
       "      <td>0.911413</td>\n",
       "    </tr>\n",
       "    <tr>\n",
       "      <th>max</th>\n",
       "      <td>109.000000</td>\n",
       "      <td>104.000000</td>\n",
       "      <td>1.000000</td>\n",
       "      <td>0.964295</td>\n",
       "    </tr>\n",
       "  </tbody>\n",
       "</table>\n",
       "</div>"
      ],
      "text/plain": [
       "          CTR_0Count     CTR_1Count      mono_pval  freqWithinBlock_pval\n",
       "count  100000.000000  100000.000000  100000.000000         100000.000000\n",
       "mean       99.100000      92.900000       0.631723              0.819270\n",
       "std         2.937701       2.937701       0.225039              0.122282\n",
       "min        88.000000      83.000000       0.060602              0.108791\n",
       "25%        97.000000      91.000000       0.470486              0.759756\n",
       "50%        99.000000      93.000000       0.665006              0.851383\n",
       "75%       101.000000      95.000000       0.772830              0.911413\n",
       "max       109.000000     104.000000       1.000000              0.964295"
      ]
     },
     "metadata": {},
     "output_type": "display_data"
    },
    {
     "data": {
      "text/html": [
       "<div>\n",
       "<table border=\"1\" class=\"dataframe\">\n",
       "  <thead>\n",
       "    <tr style=\"text-align: right;\">\n",
       "      <th></th>\n",
       "      <th>CTR_ciph</th>\n",
       "      <th>CTR_0Count</th>\n",
       "      <th>CTR_1Count</th>\n",
       "      <th>mono_pval</th>\n",
       "      <th>freqWithinBlock_pval</th>\n",
       "    </tr>\n",
       "  </thead>\n",
       "  <tbody>\n",
       "    <tr>\n",
       "      <th>99995</th>\n",
       "      <td>HoiZ3hVHRRG1k1kXygsiGA==</td>\n",
       "      <td>99</td>\n",
       "      <td>93</td>\n",
       "      <td>0.665006</td>\n",
       "      <td>0.867692</td>\n",
       "    </tr>\n",
       "    <tr>\n",
       "      <th>99996</th>\n",
       "      <td>HoiZ3hVHRRG1k1kXygsiGw==</td>\n",
       "      <td>95</td>\n",
       "      <td>97</td>\n",
       "      <td>0.885234</td>\n",
       "      <td>0.867692</td>\n",
       "    </tr>\n",
       "    <tr>\n",
       "      <th>99997</th>\n",
       "      <td>HoiZ3hVHRRG1k1kXygsiGg==</td>\n",
       "      <td>96</td>\n",
       "      <td>96</td>\n",
       "      <td>1.000000</td>\n",
       "      <td>0.911413</td>\n",
       "    </tr>\n",
       "    <tr>\n",
       "      <th>99998</th>\n",
       "      <td>HoiZ3hVHRRG1k1kXygsiFQ==</td>\n",
       "      <td>99</td>\n",
       "      <td>93</td>\n",
       "      <td>0.665006</td>\n",
       "      <td>0.867692</td>\n",
       "    </tr>\n",
       "    <tr>\n",
       "      <th>99999</th>\n",
       "      <td>HoiZ3hVHRRG1k1kXygsiFA==</td>\n",
       "      <td>100</td>\n",
       "      <td>92</td>\n",
       "      <td>0.563703</td>\n",
       "      <td>0.779188</td>\n",
       "    </tr>\n",
       "  </tbody>\n",
       "</table>\n",
       "</div>"
      ],
      "text/plain": [
       "                       CTR_ciph  CTR_0Count  CTR_1Count  mono_pval  \\\n",
       "99995  HoiZ3hVHRRG1k1kXygsiGA==          99          93   0.665006   \n",
       "99996  HoiZ3hVHRRG1k1kXygsiGw==          95          97   0.885234   \n",
       "99997  HoiZ3hVHRRG1k1kXygsiGg==          96          96   1.000000   \n",
       "99998  HoiZ3hVHRRG1k1kXygsiFQ==          99          93   0.665006   \n",
       "99999  HoiZ3hVHRRG1k1kXygsiFA==         100          92   0.563703   \n",
       "\n",
       "       freqWithinBlock_pval  \n",
       "99995              0.867692  \n",
       "99996              0.867692  \n",
       "99997              0.911413  \n",
       "99998              0.867692  \n",
       "99999              0.779188  "
      ]
     },
     "metadata": {},
     "output_type": "display_data"
    }
   ],
   "source": [
    "CTR_df2 = add2DF(CTR_df, CTR_FwB_pvals, 'freqWithinBlock_pval')"
   ]
  },
  {
   "cell_type": "markdown",
   "metadata": {},
   "source": [
    "#### The Runs Test"
   ]
  },
  {
   "cell_type": "markdown",
   "metadata": {},
   "source": [
    "#### Tests for the Longest-Run-of-Ones in a Block"
   ]
  },
  {
   "cell_type": "markdown",
   "metadata": {},
   "source": [
    "#### The Binary Matrix Rank Test"
   ]
  },
  {
   "cell_type": "markdown",
   "metadata": {},
   "source": [
    "#### The Discrete Fourier Transform (Spectral) Test"
   ]
  },
  {
   "cell_type": "markdown",
   "metadata": {},
   "source": [
    "#### The Non-overlapping Template Matching Test"
   ]
  },
  {
   "cell_type": "markdown",
   "metadata": {},
   "source": [
    "#### The Overlapping Template Matching Test"
   ]
  },
  {
   "cell_type": "markdown",
   "metadata": {},
   "source": [
    "#### Maurer's \"Universal Statistical\" Test"
   ]
  },
  {
   "cell_type": "markdown",
   "metadata": {},
   "source": [
    "#### The Linear Complexity Test"
   ]
  },
  {
   "cell_type": "markdown",
   "metadata": {},
   "source": [
    "#### The Serial Test"
   ]
  },
  {
   "cell_type": "markdown",
   "metadata": {},
   "source": [
    "#### The Approximate Entropy Test"
   ]
  },
  {
   "cell_type": "markdown",
   "metadata": {},
   "source": [
    "#### Cumulative Sums (Cusums) test"
   ]
  },
  {
   "cell_type": "markdown",
   "metadata": {},
   "source": [
    "#### The Random Excursions Test"
   ]
  },
  {
   "cell_type": "markdown",
   "metadata": {},
   "source": [
    "#### The Random Excursions Variant Test"
   ]
  },
  {
   "cell_type": "markdown",
   "metadata": {},
   "source": [
    "## Graphical and statistical analysis of test results"
   ]
  },
  {
   "cell_type": "markdown",
   "metadata": {},
   "source": [
    "In this section, we review the results of the various tests by each AES cipher mode. Comparisons are made between modes visually as well as via basic statical tests such as ANOVA. A final report of the number of passing encryptions for each AES mode is also given."
   ]
  },
  {
   "cell_type": "markdown",
   "metadata": {},
   "source": [
    "### Combine Data by Test"
   ]
  },
  {
   "cell_type": "code",
   "execution_count": 27,
   "metadata": {
    "collapsed": false
   },
   "outputs": [],
   "source": [
    "CBC = pd.DataFrame({'mono_pval':CBC_df2.mono_pval, 'Type':'CBC'})\n",
    "ECB = pd.DataFrame({'mono_pval':ECB_df2.mono_pval, 'Type':'ECB'})\n",
    "CTR = pd.DataFrame({'mono_pval':CTR_df2.mono_pval, 'Type':'CTR'})\n",
    "mono_test = pd.concat([CBC,ECB,CTR])\n",
    "\n",
    "CBC = pd.DataFrame({'freqWithinBlock_pval':CBC_df2.freqWithinBlock_pval, 'Type':'CBC'})\n",
    "ECB = pd.DataFrame({'freqWithinBlock_pval':ECB_df2.freqWithinBlock_pval, 'Type':'ECB'})\n",
    "CTR = pd.DataFrame({'freqWithinBlock_pval':CTR_df2.freqWithinBlock_pval, 'Type':'CTR'})\n",
    "freqWithinBlock_test = pd.concat([CBC,ECB,CTR])"
   ]
  },
  {
   "cell_type": "markdown",
   "metadata": {},
   "source": [
    "### Visual Review\n",
    "In this section, we provide visual review of the different distributions of p-values for each test by AES encryption type."
   ]
  },
  {
   "cell_type": "markdown",
   "metadata": {},
   "source": [
    "#### Monobit Test"
   ]
  },
  {
   "cell_type": "code",
   "execution_count": 28,
   "metadata": {
    "collapsed": false
   },
   "outputs": [
    {
     "data": {
      "image/png": "[encoded data removed]",
      "text/plain": [
       "<matplotlib.figure.Figure at 0x13be40f0>"
      ]
     },
     "metadata": {},
     "output_type": "display_data"
    },
    {
     "data": {
      "image/png": "[encoded data removed]",
      "text/plain": [
       "<matplotlib.figure.Figure at 0x1a535780>"
      ]
     },
     "metadata": {},
     "output_type": "display_data"
    }
   ],
   "source": [
    "sns.kdeplot(CBC_df2.mono_pval, label=\"CBC\", shade=True).set_title(\"Monobit Test Results\")\n",
    "sns.kdeplot(ECB_df2.mono_pval, label=\"ECB\", shade=True)\n",
    "sns.kdeplot(CTR_df2.mono_pval, label=\"CTR\", shade=True)\n",
    "plt.legend(bbox_to_anchor=(0.2,1))\n",
    "plt.show()\n",
    "\n",
    "sns.violinplot(x='Type', y='mono_pval', data=mono_test, palette='pastel')\n",
    "plt.show()"
   ]
  },
  {
   "cell_type": "markdown",
   "metadata": {},
   "source": [
    "#### Frequency Test within a Block"
   ]
  },
  {
   "cell_type": "code",
   "execution_count": 29,
   "metadata": {
    "collapsed": false
   },
   "outputs": [
    {
     "data": {
      "image/png": "[encoded data removed]",
      "text/plain": [
       "<matplotlib.figure.Figure at 0x19e987b8>"
      ]
     },
     "metadata": {},
     "output_type": "display_data"
    },
    {
     "data": {
      "image/png": "[encoded data removed]",
      "text/plain": [
       "<matplotlib.figure.Figure at 0x1a0ba048>"
      ]
     },
     "metadata": {},
     "output_type": "display_data"
    }
   ],
   "source": [
    "sns.kdeplot(CBC_df2.freqWithinBlock_pval, label=\"CBC\", shade=True).set_title(\"Frequency Test within a Block Results\")\n",
    "sns.kdeplot(ECB_df2.freqWithinBlock_pval, label=\"ECB\", shade=True)\n",
    "sns.kdeplot(CTR_df2.freqWithinBlock_pval, label=\"CTR\", shade=True)\n",
    "plt.legend(bbox_to_anchor=(0.2,1));\n",
    "plt.show()\n",
    "\n",
    "sns.violinplot(x='Type', y='freqWithinBlock_pval', data=freqWithinBlock_test, palette='pastel')\n",
    "plt.show()"
   ]
  },
  {
   "cell_type": "markdown",
   "metadata": {},
   "source": [
    "### Perform ANOVA\n",
    "In this section, we statistically compare the p-value results of each NIST test by AES encryption type."
   ]
  },
  {
   "cell_type": "markdown",
   "metadata": {},
   "source": [
    "#### Monobit Test"
   ]
  },
  {
   "cell_type": "code",
   "execution_count": 30,
   "metadata": {
    "collapsed": false
   },
   "outputs": [
    {
     "name": "stdout",
     "output_type": "stream",
     "text": [
      "                sum_sq        df            F  PR(>F)\n",
      "Type        212.422136       2.0  1672.918385     0.0\n",
      "Residual  19046.357543  299997.0          NaN     NaN\n"
     ]
    }
   ],
   "source": [
    "mod = ols('mono_pval ~ Type',\n",
    "                data=mono_test).fit()\n",
    "                \n",
    "aov_table = sm.stats.anova_lm(mod, typ=2)\n",
    "print aov_table"
   ]
  },
  {
   "cell_type": "markdown",
   "metadata": {},
   "source": [
    "Calculating eta value below"
   ]
  },
  {
   "cell_type": "code",
   "execution_count": 31,
   "metadata": {
    "collapsed": false
   },
   "outputs": [
    {
     "data": {
      "text/plain": [
       "0.01102988554228162"
      ]
     },
     "execution_count": 31,
     "metadata": {},
     "output_type": "execute_result"
    }
   ],
   "source": [
    "esq_sm = aov_table['sum_sq'][0]/(aov_table['sum_sq'][0]+aov_table['sum_sq'][1])\n",
    "esq_sm"
   ]
  },
  {
   "cell_type": "markdown",
   "metadata": {},
   "source": [
    "Perform TukeyHSD post-hoc test\n",
    "\n",
    "***Note that for monobit, CTR stands out as being statistically different from CBC and ECB***"
   ]
  },
  {
   "cell_type": "code",
   "execution_count": 32,
   "metadata": {
    "collapsed": false
   },
   "outputs": [
    {
     "name": "stdout",
     "output_type": "stream",
     "text": [
      "Multiple Comparison of Means - Tukey HSD,FWER=0.05\n",
      "============================================\n",
      "group1 group2 meandiff  lower  upper  reject\n",
      "--------------------------------------------\n",
      " CBC    CTR    0.0572   0.0545 0.0598  True \n",
      " CBC    ECB    0.0015  -0.0011 0.0041 False \n",
      " CTR    ECB   -0.0557  -0.0583 -0.053  True \n",
      "--------------------------------------------\n"
     ]
    }
   ],
   "source": [
    "mc = multi.MultiComparison(mono_test.mono_pval, mono_test.Type)\n",
    "res = mc.tukeyhsd()\n",
    "print(res)"
   ]
  },
  {
   "cell_type": "markdown",
   "metadata": {},
   "source": [
    "### Final aggregations of passing vs. failing ciphertexts\n",
    "\n",
    "In this section, we provide the final aggregated results of passing vs. failing counts among the three AES encryption types. These final counts are based on the number of passing vs. failing tests for each ciphertext."
   ]
  },
  {
   "cell_type": "markdown",
   "metadata": {},
   "source": [
    "***I still need to add basic code for this section, but it will simply tally the number of passing vs. failing ciphertexts for CBC, ECB, and CTR***"
   ]
  },
  {
   "cell_type": "code",
   "execution_count": null,
   "metadata": {
    "collapsed": true
   },
   "outputs": [],
   "source": []
  }
 ],
 "metadata": {
  "anaconda-cloud": {},
  "kernelspec": {
   "display_name": "Python [conda env:Py2DM]",
   "language": "python",
   "name": "conda-env-Py2DM-py"
  },
  "language_info": {
   "codemirror_mode": {
    "name": "ipython",
    "version": 2
   },
   "file_extension": ".py",
   "mimetype": "text/x-python",
   "name": "python",
   "nbconvert_exporter": "python",
   "pygments_lexer": "ipython2",
   "version": "2.7.12"
  }
 },
 "nbformat": 4,
 "nbformat_minor": 2
}
